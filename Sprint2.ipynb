{
 "cells": [
  {
   "cell_type": "markdown",
   "id": "b679d4e8",
   "metadata": {},
   "source": [
    "3+5"
   ]
  },
  {
   "cell_type": "code",
   "execution_count": 3,
   "id": "f7858959",
   "metadata": {},
   "outputs": [],
   "source": [
    "a=3"
   ]
  },
  {
   "cell_type": "code",
   "execution_count": 5,
   "id": "383b35f1",
   "metadata": {},
   "outputs": [],
   "source": [
    "b=6"
   ]
  },
  {
   "cell_type": "code",
   "execution_count": 6,
   "id": "5e5277be",
   "metadata": {},
   "outputs": [
    {
     "data": {
      "text/plain": [
       "9"
      ]
     },
     "execution_count": 6,
     "metadata": {},
     "output_type": "execute_result"
    }
   ],
   "source": [
    "a+b"
   ]
  },
  {
   "cell_type": "code",
   "execution_count": 7,
   "id": "548f9b5c",
   "metadata": {},
   "outputs": [
    {
     "data": {
      "text/plain": [
       "243"
      ]
     },
     "execution_count": 7,
     "metadata": {},
     "output_type": "execute_result"
    }
   ],
   "source": [
    "a*a*a*a*a"
   ]
  },
  {
   "cell_type": "code",
   "execution_count": 8,
   "id": "30297bf9",
   "metadata": {},
   "outputs": [
    {
     "data": {
      "text/plain": [
       "0"
      ]
     },
     "execution_count": 8,
     "metadata": {},
     "output_type": "execute_result"
    }
   ],
   "source": [
    "a^a"
   ]
  },
  {
   "cell_type": "code",
   "execution_count": 9,
   "id": "50775d66",
   "metadata": {},
   "outputs": [
    {
     "data": {
      "text/plain": [
       "27"
      ]
     },
     "execution_count": 9,
     "metadata": {},
     "output_type": "execute_result"
    }
   ],
   "source": [
    "a**a"
   ]
  },
  {
   "cell_type": "code",
   "execution_count": 10,
   "id": "e85f3064",
   "metadata": {},
   "outputs": [
    {
     "data": {
      "text/plain": [
       "46656"
      ]
     },
     "execution_count": 10,
     "metadata": {},
     "output_type": "execute_result"
    }
   ],
   "source": [
    "b**b"
   ]
  },
  {
   "cell_type": "code",
   "execution_count": 11,
   "id": "2ede1c0e",
   "metadata": {},
   "outputs": [
    {
     "data": {
      "text/plain": [
       "7776"
      ]
     },
     "execution_count": 11,
     "metadata": {},
     "output_type": "execute_result"
    }
   ],
   "source": [
    "b*b*b*b*b"
   ]
  },
  {
   "cell_type": "code",
   "execution_count": 12,
   "id": "849ce72c",
   "metadata": {},
   "outputs": [
    {
     "ename": "NameError",
     "evalue": "name 'ant' is not defined",
     "output_type": "error",
     "traceback": [
      "\u001b[1;31m---------------------------------------------------------------------------\u001b[0m",
      "\u001b[1;31mNameError\u001b[0m                                 Traceback (most recent call last)",
      "\u001b[1;32m<ipython-input-12-153b6a189bbb>\u001b[0m in \u001b[0;36m<module>\u001b[1;34m\u001b[0m\n\u001b[1;32m----> 1\u001b[1;33m \u001b[0mant\u001b[0m\u001b[1;33m+\u001b[0m\u001b[0mena\u001b[0m\u001b[1;33m\u001b[0m\u001b[1;33m\u001b[0m\u001b[0m\n\u001b[0m",
      "\u001b[1;31mNameError\u001b[0m: name 'ant' is not defined"
     ]
    }
   ],
   "source": [
    "ant+ena"
   ]
  },
  {
   "cell_type": "code",
   "execution_count": 13,
   "id": "4e1b5f1c",
   "metadata": {},
   "outputs": [
    {
     "data": {
      "text/plain": [
       "'antena'"
      ]
     },
     "execution_count": 13,
     "metadata": {},
     "output_type": "execute_result"
    }
   ],
   "source": [
    "\"ant\"+\"ena\""
   ]
  },
  {
   "cell_type": "code",
   "execution_count": 15,
   "id": "565b2c08",
   "metadata": {},
   "outputs": [],
   "source": [
    "###Hola"
   ]
  },
  {
   "cell_type": "code",
   "execution_count": 16,
   "id": "4b16c312",
   "metadata": {},
   "outputs": [],
   "source": [
    "prueba_bool = True"
   ]
  },
  {
   "cell_type": "code",
   "execution_count": 17,
   "id": "827883cf",
   "metadata": {},
   "outputs": [
    {
     "name": "stdout",
     "output_type": "stream",
     "text": [
      "Es verdadero\n"
     ]
    }
   ],
   "source": [
    "if(prueba_bool):\n",
    "    print(\"Es verdadero\")\n",
    "else:\n",
    "    print(\"Es falso\")"
   ]
  },
  {
   "cell_type": "code",
   "execution_count": 1,
   "id": "f2c53276",
   "metadata": {},
   "outputs": [],
   "source": [
    "#Hola"
   ]
  },
  {
   "cell_type": "markdown",
   "id": "b42a621b",
   "metadata": {},
   "source": [
    "##Hola"
   ]
  },
  {
   "cell_type": "markdown",
   "id": "ff132c67",
   "metadata": {},
   "source": [
    "# Hola"
   ]
  },
  {
   "cell_type": "markdown",
   "id": "9cede160",
   "metadata": {},
   "source": [
    "## Header 2\n",
    "### Header 3\n",
    "#### Header 4"
   ]
  },
  {
   "cell_type": "markdown",
   "id": "376b0caf",
   "metadata": {},
   "source": [
    "* Item 1\n",
    "* Item 2\n",
    "* Item 3\n",
    "    *Item 3.1"
   ]
  },
  {
   "cell_type": "markdown",
   "id": "6c32ff66",
   "metadata": {},
   "source": [
    "+ item 1\n",
    "+ item2\n",
    "+ item3\n",
    "    + sub item 1"
   ]
  },
  {
   "cell_type": "markdown",
   "id": "d9390cfe",
   "metadata": {},
   "source": [
    "*Prueba de texto cursivo*"
   ]
  },
  {
   "cell_type": "markdown",
   "id": "a481236b",
   "metadata": {},
   "source": [
    "_Prueba 2_"
   ]
  },
  {
   "cell_type": "markdown",
   "id": "338fe952",
   "metadata": {},
   "source": [
    "** Prueba 3 **"
   ]
  },
  {
   "cell_type": "markdown",
   "id": "f242f3da",
   "metadata": {},
   "source": [
    "**Prueba 3**"
   ]
  },
  {
   "cell_type": "markdown",
   "id": "0928928e",
   "metadata": {},
   "source": [
    "![Homer Simpson](https://static3.abc.es/media/play/2018/08/22/homer-simpson-kO2--620x349@abc.JPG \"Homer Simpson\")\n"
   ]
  },
  {
   "cell_type": "code",
   "execution_count": null,
   "id": "81c38ef6",
   "metadata": {},
   "outputs": [],
   "source": [
    "# "
   ]
  },
  {
   "cell_type": "code",
   "execution_count": null,
   "id": "147b57bb",
   "metadata": {},
   "outputs": [],
   "source": []
  }
 ],
 "metadata": {
  "kernelspec": {
   "display_name": "Python 3",
   "language": "python",
   "name": "python3"
  },
  "language_info": {
   "codemirror_mode": {
    "name": "ipython",
    "version": 3
   },
   "file_extension": ".py",
   "mimetype": "text/x-python",
   "name": "python",
   "nbconvert_exporter": "python",
   "pygments_lexer": "ipython3",
   "version": "3.9.6"
  }
 },
 "nbformat": 4,
 "nbformat_minor": 5
}
